{
  "nbformat": 4,
  "nbformat_minor": 0,
  "metadata": {
    "colab": {
      "name": "DeepLearning_from_scratch_2_chapter4.ipynb",
      "provenance": [],
      "collapsed_sections": []
    },
    "kernelspec": {
      "name": "python3",
      "display_name": "Python 3"
    },
    "language_info": {
      "name": "python"
    }
  },
  "cells": [
    {
      "cell_type": "code",
      "execution_count": 14,
      "metadata": {
        "colab": {
          "base_uri": "https://localhost:8080/"
        },
        "id": "29FUZEB4waqO",
        "outputId": "7396dae2-5e02-4ea1-f757-15354fde1fd7"
      },
      "outputs": [
        {
          "output_type": "stream",
          "name": "stdout",
          "text": [
            "fatal: destination path 'deep-learning-from-scratch-2' already exists and is not an empty directory.\n"
          ]
        }
      ],
      "source": [
        "!git clone https://github.com/WegraLee/deep-learning-from-scratch-2.git\n",
        "import sys, os\n",
        "sys.path.append('/content/deep-learning-from-scratch-2')"
      ]
    },
    {
      "cell_type": "code",
      "source": [
        "# !pip install cupy"
      ],
      "metadata": {
        "id": "MrgcwaF6R7xT"
      },
      "execution_count": 15,
      "outputs": []
    },
    {
      "cell_type": "code",
      "source": [
        "import numpy as np"
      ],
      "metadata": {
        "id": "Cm9rcbATyNri"
      },
      "execution_count": 16,
      "outputs": []
    },
    {
      "cell_type": "code",
      "source": [
        "# Embedding 구현\n",
        "class Embedding:\n",
        "  def __init__(self, W):\n",
        "    self.params = [W]\n",
        "    self.grads = [np.zeros_like(W)]\n",
        "    self.idx = None\n",
        "\n",
        "  def forward(self, idx):\n",
        "    W, = self.params\n",
        "    self.idx = idx\n",
        "    out = W[idx] # 가중치W의 특정행만 추출\n",
        "    return out\n",
        "  \n",
        "  def backward(self, dout):\n",
        "    dW, = self.grads\n",
        "    dW[...] = 0 # dW형상을 유지한 채 그 원소들을 0으로 덮어씀\n",
        "    for i, word_id in enumerate(self.idx):\n",
        "      dW[word_id] += dout[i] # 먼저 쓰여진 값에 덮어써지는 중복문제를 해결\n",
        "    return None"
      ],
      "metadata": {
        "id": "32nUsaA2xd5N"
      },
      "execution_count": 17,
      "outputs": []
    },
    {
      "cell_type": "code",
      "source": [
        "# Embedding Dot 구현\n",
        "class EmbeddingDot:\n",
        "  def __init__(self, W):\n",
        "    self.embed = Embedding(W)\n",
        "    self.params = self.embed.params\n",
        "    self.grads = self.embed.grads\n",
        "    self.cache = None\n",
        "\n",
        "  def forward(self, h, idx):\n",
        "    target_W = self.embed.forward(idx) # Embedding 계층의 foward(idx)를 호출\n",
        "    out = np.sum(target_W * h, axis=1) # 내적계산\n",
        "    self.cache = (h, target_W)\n",
        "    return out\n",
        "\n",
        "  def backward(self, dout):\n",
        "    h, target_W = self.cache\n",
        "    dout = dout.reshape(dout.shape[0], 1)\n",
        "    dtarget_W = dout * h\n",
        "    self.embed.backward(dtarget_W)\n",
        "    dh = dout * target_W\n",
        "    return dh"
      ],
      "metadata": {
        "id": "3WMO1myszKGy"
      },
      "execution_count": 18,
      "outputs": []
    },
    {
      "cell_type": "code",
      "source": [
        "# UnigramSample 구현\n",
        "import collections\n",
        "class UnigramSampler:\n",
        "    def __init__(self, corpus, power, sample_size):\n",
        "        self.sample_size = sample_size\n",
        "        self.vocab_size = None\n",
        "        self.word_p = None\n",
        "\n",
        "        counts = collections.Counter()\n",
        "        for word_id in corpus:\n",
        "            counts[word_id] += 1\n",
        "\n",
        "        vocab_size = len(counts)\n",
        "        self.vocab_size = vocab_size\n",
        "\n",
        "        self.word_p = np.zeros(vocab_size)\n",
        "        for i in range(vocab_size):\n",
        "            self.word_p[i] = counts[i]\n",
        "\n",
        "        self.word_p = np.power(self.word_p, power)\n",
        "        self.word_p /= np.sum(self.word_p)\n",
        "\n",
        "    def get_negative_sample(self, target):\n",
        "        batch_size = target.shape[0]\n",
        "\n",
        "        if not GPU:\n",
        "            negative_sample = np.zeros((batch_size, self.sample_size), dtype=np.int32)\n",
        "\n",
        "            for i in range(batch_size):\n",
        "                p = self.word_p.copy()\n",
        "                target_idx = target[i]\n",
        "                p[target_idx] = 0\n",
        "                p /= p.sum()\n",
        "                negative_sample[i, :] = np.random.choice(self.vocab_size, size=self.sample_size, replace=False, p=p)\n",
        "        else:\n",
        "            # GPU(cupy）로 계산할 때는 속도를 우선한다.\n",
        "            # 부정적 예에 타깃이 포함될 수 있다.\n",
        "            negative_sample = np.random.choice(self.vocab_size, size=(batch_size, self.sample_size),\n",
        "                                               replace=True, p=self.word_p)\n",
        "\n",
        "        return negative_sample"
      ],
      "metadata": {
        "id": "ZI-88T2o7s8Y"
      },
      "execution_count": 19,
      "outputs": []
    },
    {
      "cell_type": "code",
      "source": [
        "# Negative Sampling Loss 구현\n",
        "from common.config import GPU\n",
        "from common.functions import softmax, cross_entropy_error\n",
        "from common.layers import SigmoidWithLoss\n",
        "class NegativeSamplingLoss:\n",
        "  def __init__(self, W, corpus, power=0.75, sample_size=5):\n",
        "    self.sample_size = sample_size\n",
        "    self.sampler = UnigramSampler(corpus, power, sample_size)\n",
        "    self.loss_layers = [SigmoidWithLoss() for _ in range(sample_size + 1)]\n",
        "    self.embed_dot_layers = [EmbeddingDot(W) for _ in range(sample_size + 1)]\n",
        "    self.params, self.grads = [], []\n",
        "    for layer in self.embed_dot_layers:\n",
        "      self.params += layer.params\n",
        "      self.grads += layer.grads\n",
        "\n",
        "  def forward(self, h, target):\n",
        "    batch_size = target.shape[0]\n",
        "    negative_sample = self.sampler.get_negative_sample(target)\n",
        "    # 긍정적\n",
        "    score = self.embed_dot_layers[0].forward(h, target) # forward 점수 계산\n",
        "    correct_label = np.ones(batch_size, dtype=np.int32)\n",
        "    loss = self.loss_layers[0].forward(score, correct_label) #손실 계산\n",
        "    # 부정적\n",
        "    negative_label = np.zeros(batch_size, dtype=np.int32)\n",
        "    for i in range(self.sample_size):\n",
        "      negative_target = negative_sample[:, i]\n",
        "      score = self.embed_dot_layers[1 + i].forward(h, negative_target)\n",
        "      loss += self.loss_layers[1 + i].forward(score, negative_label)\n",
        "    return loss\n",
        "\n",
        "  def backward(self, dout=1):\n",
        "    dh = 0\n",
        "    for l0, l1 in zip(self.loss_layers, self.embed_dot_layers):\n",
        "      dscore = l0.backward(dout)\n",
        "      dh += l1.backward(dscore)\n",
        "    return dh"
      ],
      "metadata": {
        "id": "yNdU3QDS1I0R"
      },
      "execution_count": 20,
      "outputs": []
    },
    {
      "cell_type": "code",
      "source": [
        "# CBOW 모델 구현\n",
        "class CBOW:\n",
        "  def __init__(self, vocab_size, hidden_size, window_size, corpus):\n",
        "    V, H = vocab_size, hidden_size\n",
        "\n",
        "    # 가중치 초기화\n",
        "    W_in = 0.01 * np.random.randn(V, H).astype('f')\n",
        "    W_out = 0.01 * np.random.randn(V, H).astype('f')\n",
        "\n",
        "    # 계층생성\n",
        "    self.in_layers = []\n",
        "    for i in range(2*window_size):\n",
        "      layer = Embedding(W_in) # Embedding 계층 생성\n",
        "      self.in_layers.append(layer)\n",
        "    self.ns_loss = NegativeSamplingLoss(W_out, corpus, power=0.75, sample_size=5)\n",
        "\n",
        "    # 모든 가중치와 기울기를 배열 모음\n",
        "    layers = self.in_layers + [self.ns_loss]\n",
        "    self.params, self.grads = [], []\n",
        "    for layer in layers:\n",
        "      self.params += layer.params\n",
        "      self.grads += layer.grads\n",
        "\n",
        "    # 인스턴스 변수에 단어의 분산 표현을 저장\n",
        "    self.word_vecs = W_in\n",
        "\n",
        "  def forward(self, contexts, target):\n",
        "    h = 0\n",
        "    for i, layer in enumerate(self.in_layers):\n",
        "      h += layer.forward(contexts[:, i])\n",
        "    h *= 1/len(self.in_layers)\n",
        "    loss = self.ns_loss.forward(h, target)\n",
        "    return loss\n",
        "\n",
        "  def backward(self, dout=1):\n",
        "    dout = self.ns_loss.backward(dout)\n",
        "    dout *= 1/ len(self.in_layers)\n",
        "    for layer in self.in_layers:\n",
        "      layer.backward(dout)\n",
        "    return None"
      ],
      "metadata": {
        "id": "yVAimNDJ9J7L"
      },
      "execution_count": 21,
      "outputs": []
    },
    {
      "cell_type": "code",
      "source": [
        "# model train\n",
        "import pickle\n",
        "from common import config\n",
        "from common.trainer import Trainer\n",
        "from common.optimizer import Adam\n",
        "from common.util import create_contexts_target, to_cpu, to_gpu\n",
        "from dataset import ptb\n",
        "\n",
        "#config.GPU = True\n",
        "\n",
        "# Hyperparameter\n",
        "window_size = 5\n",
        "hidden_size = 100\n",
        "batch_size = 100\n",
        "max_epoch = 10\n",
        "\n",
        "# Data Read\n",
        "corpus, word_to_id, id_to_word = ptb.load_data('train')\n",
        "vocab_size = len(word_to_id)\n",
        "contexts, target = create_contexts_target(corpus, window_size)\n",
        "\n",
        "#if config.GPU:\n",
        "#  contexts, target = to_gpu(contexts), to_gpu(target)\n",
        "\n",
        "# Model\n",
        "model = CBOW(vocab_size, hidden_size, window_size, corpus)\n",
        "optimizer = Adam()\n",
        "trainer = Trainer(model, optimizer)\n",
        "\n",
        "# Train\n",
        "trainer.fit(contexts, target, max_epoch, batch_size, eval_interval = 3000)\n",
        "trainer.plot()\n",
        "\n",
        "# Data save\n",
        "word_vecs = model.word_vecs\n",
        "if config.GPU:\n",
        "  word_vecs = to_cpu(word_vecs)\n",
        "params = {}\n",
        "params['word_vecs'] = word_vecs.astype(np.float16)\n",
        "params['word_to_id'] = word_to_id\n",
        "params['id_to_word'] = id_to_word\n",
        "pkl_file='cbow_params.pkl'\n",
        "with open(pkl_file, 'wb') as f:\n",
        "  pickle.dump(params, f, -1)"
      ],
      "metadata": {
        "colab": {
          "base_uri": "https://localhost:8080/",
          "height": 1000
        },
        "id": "WFnaH40bI94X",
        "outputId": "03fb1ead-7a49-4dca-cd32-287927dc7507"
      },
      "execution_count": 22,
      "outputs": [
        {
          "output_type": "stream",
          "name": "stdout",
          "text": [
            "| 에폭 1 |  반복 1 / 9295 | 시간 0[s] | 손실 4.16\n",
            "| 에폭 1 |  반복 3001 / 9295 | 시간 115[s] | 손실 2.65\n",
            "| 에폭 1 |  반복 6001 / 9295 | 시간 227[s] | 손실 2.40\n",
            "| 에폭 1 |  반복 9001 / 9295 | 시간 340[s] | 손실 2.29\n",
            "| 에폭 2 |  반복 1 / 9295 | 시간 351[s] | 손실 2.23\n",
            "| 에폭 2 |  반복 3001 / 9295 | 시간 460[s] | 손실 2.16\n",
            "| 에폭 2 |  반복 6001 / 9295 | 시간 570[s] | 손실 2.11\n",
            "| 에폭 2 |  반복 9001 / 9295 | 시간 679[s] | 손실 2.06\n",
            "| 에폭 3 |  반복 1 / 9295 | 시간 690[s] | 손실 2.03\n",
            "| 에폭 3 |  반복 3001 / 9295 | 시간 800[s] | 손실 1.96\n",
            "| 에폭 3 |  반복 6001 / 9295 | 시간 911[s] | 손실 1.95\n",
            "| 에폭 3 |  반복 9001 / 9295 | 시간 1022[s] | 손실 1.92\n",
            "| 에폭 4 |  반복 1 / 9295 | 시간 1033[s] | 손실 1.91\n",
            "| 에폭 4 |  반복 3001 / 9295 | 시간 1142[s] | 손실 1.84\n",
            "| 에폭 4 |  반복 6001 / 9295 | 시간 1250[s] | 손실 1.83\n",
            "| 에폭 4 |  반복 9001 / 9295 | 시간 1358[s] | 손실 1.82\n",
            "| 에폭 5 |  반복 1 / 9295 | 시간 1368[s] | 손실 1.81\n",
            "| 에폭 5 |  반복 3001 / 9295 | 시간 1477[s] | 손실 1.75\n",
            "| 에폭 5 |  반복 6001 / 9295 | 시간 1587[s] | 손실 1.75\n",
            "| 에폭 5 |  반복 9001 / 9295 | 시간 1696[s] | 손실 1.74\n",
            "| 에폭 6 |  반복 1 / 9295 | 시간 1707[s] | 손실 1.74\n",
            "| 에폭 6 |  반복 3001 / 9295 | 시간 1815[s] | 손실 1.67\n",
            "| 에폭 6 |  반복 6001 / 9295 | 시간 1922[s] | 손실 1.67\n",
            "| 에폭 6 |  반복 9001 / 9295 | 시간 2028[s] | 손실 1.67\n",
            "| 에폭 7 |  반복 1 / 9295 | 시간 2039[s] | 손실 1.66\n",
            "| 에폭 7 |  반복 3001 / 9295 | 시간 2147[s] | 손실 1.60\n",
            "| 에폭 7 |  반복 6001 / 9295 | 시간 2255[s] | 손실 1.61\n",
            "| 에폭 7 |  반복 9001 / 9295 | 시간 2363[s] | 손실 1.61\n",
            "| 에폭 8 |  반복 1 / 9295 | 시간 2374[s] | 손실 1.61\n",
            "| 에폭 8 |  반복 3001 / 9295 | 시간 2480[s] | 손실 1.54\n",
            "| 에폭 8 |  반복 6001 / 9295 | 시간 2586[s] | 손실 1.55\n",
            "| 에폭 8 |  반복 9001 / 9295 | 시간 2693[s] | 손실 1.56\n",
            "| 에폭 9 |  반복 1 / 9295 | 시간 2703[s] | 손실 1.57\n",
            "| 에폭 9 |  반복 3001 / 9295 | 시간 2811[s] | 손실 1.50\n",
            "| 에폭 9 |  반복 6001 / 9295 | 시간 2919[s] | 손실 1.51\n",
            "| 에폭 9 |  반복 9001 / 9295 | 시간 3027[s] | 손실 1.51\n",
            "| 에폭 10 |  반복 1 / 9295 | 시간 3038[s] | 손실 1.53\n",
            "| 에폭 10 |  반복 3001 / 9295 | 시간 3144[s] | 손실 1.45\n",
            "| 에폭 10 |  반복 6001 / 9295 | 시간 3251[s] | 손실 1.46\n",
            "| 에폭 10 |  반복 9001 / 9295 | 시간 3357[s] | 손실 1.48\n"
          ]
        },
        {
          "output_type": "stream",
          "name": "stderr",
          "text": [
            "/usr/local/lib/python3.7/dist-packages/matplotlib/backends/backend_agg.py:214: RuntimeWarning: Glyph 48152 missing from current font.\n",
            "  font.set_text(s, 0.0, flags=flags)\n",
            "/usr/local/lib/python3.7/dist-packages/matplotlib/backends/backend_agg.py:214: RuntimeWarning: Glyph 48373 missing from current font.\n",
            "  font.set_text(s, 0.0, flags=flags)\n",
            "/usr/local/lib/python3.7/dist-packages/matplotlib/backends/backend_agg.py:214: RuntimeWarning: Glyph 49552 missing from current font.\n",
            "  font.set_text(s, 0.0, flags=flags)\n",
            "/usr/local/lib/python3.7/dist-packages/matplotlib/backends/backend_agg.py:214: RuntimeWarning: Glyph 49892 missing from current font.\n",
            "  font.set_text(s, 0.0, flags=flags)\n",
            "/usr/local/lib/python3.7/dist-packages/matplotlib/backends/backend_agg.py:183: RuntimeWarning: Glyph 48152 missing from current font.\n",
            "  font.set_text(s, 0, flags=flags)\n",
            "/usr/local/lib/python3.7/dist-packages/matplotlib/backends/backend_agg.py:183: RuntimeWarning: Glyph 48373 missing from current font.\n",
            "  font.set_text(s, 0, flags=flags)\n",
            "/usr/local/lib/python3.7/dist-packages/matplotlib/backends/backend_agg.py:183: RuntimeWarning: Glyph 49552 missing from current font.\n",
            "  font.set_text(s, 0, flags=flags)\n",
            "/usr/local/lib/python3.7/dist-packages/matplotlib/backends/backend_agg.py:183: RuntimeWarning: Glyph 49892 missing from current font.\n",
            "  font.set_text(s, 0, flags=flags)\n"
          ]
        },
        {
          "output_type": "display_data",
          "data": {
            "image/png": "[encoded data removed]",
            "text/plain": [
              "<Figure size 432x288 with 1 Axes>"
            ]
          },
          "metadata": {
            "needs_background": "light"
          }
        }
      ]
    },
    {
      "cell_type": "code",
      "source": [
        "# Model eval\n",
        "from common.util import most_similar\n",
        "\n",
        "pkl_file = 'cbow_params.pkl'\n",
        "\n",
        "with open(pkl_file, 'rb') as f:\n",
        "  params = pickle.load(f)\n",
        "  word_vecs = params['word_vecs']\n",
        "  word_to_id = params['word_to_id']\n",
        "  id_to_word = params['id_to_word']\n",
        "\n",
        "querys = ['you', 'year', 'car', 'toyota']\n",
        "for query in querys:\n",
        "  most_similar(query, word_to_id, id_to_word, word_vecs, top=5)"
      ],
      "metadata": {
        "id": "hS8eJoYeO5gC",
        "colab": {
          "base_uri": "https://localhost:8080/"
        },
        "outputId": "2480de31-490f-46f8-a738-20f49bd170bb"
      },
      "execution_count": 23,
      "outputs": [
        {
          "output_type": "stream",
          "name": "stdout",
          "text": [
            "\n",
            "[query] you\n",
            " we: 0.71630859375\n",
            " i: 0.6796875\n",
            " your: 0.5966796875\n",
            " someone: 0.57568359375\n",
            " they: 0.57373046875\n",
            "\n",
            "[query] year\n",
            " month: 0.85400390625\n",
            " week: 0.77099609375\n",
            " spring: 0.76904296875\n",
            " summer: 0.74755859375\n",
            " decade: 0.66796875\n",
            "\n",
            "[query] car\n",
            " luxury: 0.6181640625\n",
            " auto: 0.59375\n",
            " truck: 0.57958984375\n",
            " cars: 0.56982421875\n",
            " window: 0.56689453125\n",
            "\n",
            "[query] toyota\n",
            " honda: 0.6376953125\n",
            " engines: 0.62841796875\n",
            " chevrolet: 0.625\n",
            " seita: 0.60498046875\n",
            " f-14: 0.6044921875\n"
          ]
        }
      ]
    },
    {
      "cell_type": "code",
      "source": [
        "class SkipGram:\n",
        "  def __init__(self, vocab_size, hidden_size, window_size, corpus):\n",
        "      V, H = vocab_size, hidden_size\n",
        "      rn = np.random.randn\n",
        "\n",
        "      # 가중치 초기화\n",
        "      W_in = 0.01 * rn(V, H).astype('f')\n",
        "      W_out = 0.01 * rn(V, H).astype('f')\n",
        "\n",
        "      # 계층 생성\n",
        "      self.in_layer = Embedding(W_in)\n",
        "      self.loss_layers = []\n",
        "      for i in range(2 * window_size):\n",
        "          layer = NegativeSamplingLoss(W_out, corpus, power=0.75, sample_size=5)\n",
        "          self.loss_layers.append(layer)\n",
        "\n",
        "      # 모든 가중치와 기울기를 배열모음.\n",
        "      layers = [self.in_layer] + self.loss_layers\n",
        "      self.params, self.grads = [], []\n",
        "      for layer in layers:\n",
        "          self.params += layer.params\n",
        "          self.grads += layer.grads\n",
        "\n",
        "      # 인스턴스 변수에 단어의 분산 표현을 저장\n",
        "      self.word_vecs = W_in\n",
        "\n",
        "  def forward(self, contexts, target):\n",
        "      h = self.in_layer.forward(target)\n",
        "\n",
        "      loss = 0\n",
        "      for i, layer in enumerate(self.loss_layers):\n",
        "          loss += layer.forward(h, contexts[:, i])\n",
        "      return loss\n",
        "\n",
        "  def backward(self, dout=1):\n",
        "      dh = 0\n",
        "      for i, layer in enumerate(self.loss_layers):\n",
        "          dh += layer.backward(dout)\n",
        "      self.in_layer.backward(dh)\n",
        "      return None"
      ],
      "metadata": {
        "id": "XcWlCCNAR_b4"
      },
      "execution_count": 23,
      "outputs": []
    }
  ]
}