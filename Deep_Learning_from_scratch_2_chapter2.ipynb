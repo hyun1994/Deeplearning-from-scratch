{
  "nbformat": 4,
  "nbformat_minor": 0,
  "metadata": {
    "colab": {
      "name": "Deep_Learning_from_scratch_2_chapter2.ipynb",
      "provenance": [],
      "collapsed_sections": []
    },
    "kernelspec": {
      "name": "python3",
      "display_name": "Python 3"
    },
    "language_info": {
      "name": "python"
    }
  },
  "cells": [
    {
      "cell_type": "code",
      "execution_count": 1,
      "metadata": {
        "id": "iFVdcbYbaTHI"
      },
      "outputs": [],
      "source": [
        "import numpy as np\n",
        "text = \"You say goodbye and I say hello.\""
      ]
    },
    {
      "cell_type": "code",
      "source": [
        "# 말뭉치를 이용하기 위한 전처리 구현\n",
        "\n",
        "def preprocess(text):\n",
        "  text = text.lower()\n",
        "  text = text.replace('.', ' .')\n",
        "  words = text.split(' ') # 단어 단위로 분할\n",
        "\n",
        "  word_to_id = {} # 단어에서 id로 변환하는 딕셔너리\n",
        "  id_to_word = {} # id에서 단어로 변환하는 딕셔너리\n",
        "  for word in words:\n",
        "    if word not in word_to_id:\n",
        "      new_id = len(word_to_id)\n",
        "      word_to_id[word] = new_id\n",
        "      id_to_word[new_id] = word\n",
        "\n",
        "  corpus = np.array([word_to_id[w] for w in words]) # 단어 목록에서 id 목록으로 변환한 다음 넘파이배열로 변환\n",
        "  return corpus, word_to_id, id_to_word"
      ],
      "metadata": {
        "id": "QLZCfchfkJuO"
      },
      "execution_count": 2,
      "outputs": []
    },
    {
      "cell_type": "code",
      "source": [
        "corpus, word_to_id, id_to_word = preprocess(text)\n",
        "print(corpus)\n",
        "print(word_to_id)\n",
        "print(id_to_word)"
      ],
      "metadata": {
        "colab": {
          "base_uri": "https://localhost:8080/"
        },
        "id": "9k3UZ9PwlOQd",
        "outputId": "5c4adf9a-cf58-471e-8f2a-29cba15af256"
      },
      "execution_count": 3,
      "outputs": [
        {
          "output_type": "stream",
          "name": "stdout",
          "text": [
            "[0 1 2 3 4 1 5 6]\n",
            "{'you': 0, 'say': 1, 'goodbye': 2, 'and': 3, 'i': 4, 'hello': 5, '.': 6}\n",
            "{0: 'you', 1: 'say', 2: 'goodbye', 3: 'and', 4: 'i', 5: 'hello', 6: '.'}\n"
          ]
        }
      ]
    },
    {
      "cell_type": "code",
      "source": [
        "# 동시발생 행렬 구현\n",
        "\n",
        "def create_co_matrix(corpus, vocab_size, window_size=1):\n",
        "  corpus_size = len(corpus)\n",
        "  co_matrix = np.zeros((vocab_size, vocab_size), dtype=np.int32) # 0으로 채워진 2차원 배열로 초기화\n",
        "\n",
        "  for idx, word_id in enumerate(corpus):\n",
        "    for i in range(1, window_size+1):\n",
        "      left_idx = idx - i # 왼쪽에서 오른쪽으로 이동하기 때문에 왼쪽은 - 오른쪽은 +\n",
        "      right_idx = idx + i\n",
        "\n",
        "      if left_idx >= 0:\n",
        "        left_word_id = corpus[left_idx]\n",
        "        co_matrix[word_id, left_word_id] += 1 # 윈도우에 포함된 단어일 때 1증가\n",
        "\n",
        "      if right_idx < corpus_size:\n",
        "        right_word_id = corpus[right_idx]\n",
        "        co_matrix[word_id, right_word_id] += 1 # 윈도우에 포함된 단어일 때 1증가\n",
        "\n",
        "  return co_matrix"
      ],
      "metadata": {
        "id": "WepPY7_elbo8"
      },
      "execution_count": 4,
      "outputs": []
    },
    {
      "cell_type": "code",
      "source": [
        "# 코사인 유사도 구현\n",
        "\n",
        "def cos_similarity(x, y, eps=1e-8):\n",
        "  nx = x / (np.sqrt(np.sum(x**2)) + eps) # x의 정규화 인수가 0일 때 오류가 발생하므로 분모에 작은 값을 더함\n",
        "  ny = y / (np.sqrt(np.sum(y**2)) + eps) # y의 정규화 인수가 0일 때 오류가 발생하므로 분모에 작은 값을 더함\n",
        "  return np.dot(nx, ny)"
      ],
      "metadata": {
        "id": "uEz3wyT4qe0K"
      },
      "execution_count": 5,
      "outputs": []
    },
    {
      "cell_type": "code",
      "source": [
        "corpus, word_to_id, id_to_word = preprocess(text)\n",
        "vocab_size = len(word_to_id)\n",
        "C = create_co_matrix(corpus, vocab_size)\n",
        "\n",
        "c0 = C[word_to_id['you']]\n",
        "c1 = C[word_to_id['i']]\n",
        "\n",
        "print(cos_similarity(c0, c1))"
      ],
      "metadata": {
        "colab": {
          "base_uri": "https://localhost:8080/"
        },
        "id": "aUwRXQRVt7xO",
        "outputId": "d0367a0c-1657-42e6-ade7-694933273bea"
      },
      "execution_count": 6,
      "outputs": [
        {
          "output_type": "stream",
          "name": "stdout",
          "text": [
            "0.7071067691154799\n"
          ]
        }
      ]
    },
    {
      "cell_type": "code",
      "source": [
        "def most_similar(query, word_to_id, id_to_word, word_matrix, top=5):\n",
        "  if query not in word_to_id:\n",
        "    print('%s(을)를 찾을 수 없습니다.' % query) # 검색어 추출\n",
        "    return\n",
        "  \n",
        "  print('\\n[query]' + query)\n",
        "  query_id = word_to_id[query]\n",
        "  query_vec = word_matrix[query_id]\n",
        "\n",
        "  vocab_size = len(id_to_word)\n",
        "  similarity = np.zeros(vocab_size)\n",
        "  for i in range(vocab_size): # 코사인 유사도 계산\n",
        "    similarity[i] = cos_similarity(word_matrix[i], query_vec)\n",
        "\n",
        "  count = 0\n",
        "  for i in (-1 * similarity).argsort(): # 유사도 기준으로 내림차순으로 출력\n",
        "    if id_to_word[i] == query:\n",
        "      continue\n",
        "    print(' %s\" %s' % (id_to_word[i], similarity[i]))\n",
        "\n",
        "    count += 1\n",
        "    if count >= top:\n",
        "      return"
      ],
      "metadata": {
        "id": "ktK7jQtJutgF"
      },
      "execution_count": 7,
      "outputs": []
    },
    {
      "cell_type": "code",
      "source": [
        "most_similar('you', word_to_id, id_to_word, C, top=5)"
      ],
      "metadata": {
        "colab": {
          "base_uri": "https://localhost:8080/"
        },
        "id": "AKeMobvwwRj1",
        "outputId": "81f873d5-dd29-4513-925f-85503226728d"
      },
      "execution_count": 8,
      "outputs": [
        {
          "output_type": "stream",
          "name": "stdout",
          "text": [
            "\n",
            "[query]you\n",
            " goodbye\" 0.7071067691154799\n",
            " i\" 0.7071067691154799\n",
            " hello\" 0.7071067691154799\n",
            " say\" 0.0\n",
            " and\" 0.0\n"
          ]
        }
      ]
    },
    {
      "cell_type": "code",
      "source": [
        "# 양의 상호정보량 구현\n",
        "\n",
        "def ppmi(C, verbose=False, eps=1e-8):\n",
        "  M = np.zeros_like(C, dtype=np.float32)\n",
        "  N = np.sum(C)\n",
        "  S = np.sum(C, axis=0)\n",
        "  total = C.shape[0] * C.shape[1]\n",
        "  cnt = 0\n",
        "\n",
        "  for i in range(C.shape[0]):\n",
        "    for j in range(C.shape[1]):\n",
        "      pmi = np.log2(C[i,j] * N / (S[j] * S[i]) + eps) # 동시발생 횟수가 0이면 발산된다는 문제를 해결하기 위해 매우 작은수를 더함\n",
        "      M[i, j] = max(0,pmi) # PMI가 음수일 때는 0으로 취급\n",
        "\n",
        "      if verbose:\n",
        "        cnt += 1\n",
        "        if cnt % (total//100) == 0:\n",
        "          print('%.1f%% 완료' % (100*cnt/total))\n",
        "\n",
        "  return M"
      ],
      "metadata": {
        "id": "IaogEPPIwxa8"
      },
      "execution_count": 9,
      "outputs": []
    },
    {
      "cell_type": "code",
      "source": [
        "W = ppmi(C)\n",
        "np.set_printoptions(precision=3)\n",
        "print('동시발생 행렬')\n",
        "print(C)\n",
        "print('-'*50)\n",
        "print('PPMI')\n",
        "print(W)"
      ],
      "metadata": {
        "colab": {
          "base_uri": "https://localhost:8080/"
        },
        "id": "ZPj_SM2MyDsD",
        "outputId": "68d3febf-b104-446f-ad12-efe526c59fce"
      },
      "execution_count": 10,
      "outputs": [
        {
          "output_type": "stream",
          "name": "stdout",
          "text": [
            "동시발생 행렬\n",
            "[[0 1 0 0 0 0 0]\n",
            " [1 0 1 0 1 1 0]\n",
            " [0 1 0 1 0 0 0]\n",
            " [0 0 1 0 1 0 0]\n",
            " [0 1 0 1 0 0 0]\n",
            " [0 1 0 0 0 0 1]\n",
            " [0 0 0 0 0 1 0]]\n",
            "--------------------------------------------------\n",
            "PPMI\n",
            "[[0.    1.807 0.    0.    0.    0.    0.   ]\n",
            " [1.807 0.    0.807 0.    0.807 0.807 0.   ]\n",
            " [0.    0.807 0.    1.807 0.    0.    0.   ]\n",
            " [0.    0.    1.807 0.    1.807 0.    0.   ]\n",
            " [0.    0.807 0.    1.807 0.    0.    0.   ]\n",
            " [0.    0.807 0.    0.    0.    0.    2.807]\n",
            " [0.    0.    0.    0.    0.    2.807 0.   ]]\n"
          ]
        }
      ]
    },
    {
      "cell_type": "code",
      "source": [
        "# SVD 구현\n",
        "\n",
        "U,S,V = np.linalg.svd(W)\n",
        "print(U[0])"
      ],
      "metadata": {
        "colab": {
          "base_uri": "https://localhost:8080/"
        },
        "id": "h3kXYiaby5bK",
        "outputId": "bccc0f38-3587-49d2-a00f-74fdd92fdbe3"
      },
      "execution_count": 11,
      "outputs": [
        {
          "output_type": "stream",
          "name": "stdout",
          "text": [
            "[-1.110e-16  3.409e-01 -4.163e-16 -1.205e-01 -1.110e-16 -9.323e-01\n",
            " -1.086e-16]\n"
          ]
        }
      ]
    },
    {
      "cell_type": "code",
      "source": [
        "import matplotlib.pyplot as plt\n",
        "\n",
        "for word, word_id in word_to_id.items():\n",
        "  plt.annotate(word, (U[word_id, 0], U[word_id, 1]))\n",
        "\n",
        "plt.scatter(U[:, 0], U[:, 1], alpha=0.5)\n",
        "plt.show()"
      ],
      "metadata": {
        "colab": {
          "base_uri": "https://localhost:8080/",
          "height": 264
        },
        "id": "zPCA4n853kAd",
        "outputId": "ec9f4d68-5ae2-4f56-ca0c-fad69512772b"
      },
      "execution_count": 12,
      "outputs": [
        {
          "output_type": "display_data",
          "data": {
            "image/png": "[encoded data removed]",
            "text/plain": [
              "<Figure size 432x288 with 1 Axes>"
            ]
          },
          "metadata": {
            "needs_background": "light"
          }
        }
      ]
    },
    {
      "cell_type": "code",
      "source": [
        "!git clone https://github.com/WegraLee/deep-learning-from-scratch-2.git\n",
        "import sys, os\n",
        "sys.path.append('/content/deep-learning-from-scratch-2')\n",
        "from dataset import ptb\n",
        "\n",
        "window_size = 2\n",
        "wordvec_size = 100\n",
        "corpus, word_to_id, id_to_word = ptb.load_data('train')\n",
        "vocab_size = len(word_to_id)\n",
        "print('동시발생 수 계산...')\n",
        "C = create_co_matrix(corpus, vocab_size, window_size) # 동시발생 행렬계산\n",
        "print('PPMI 계산...')\n",
        "W = ppmi(C, verbose=True) # 계산된 행렬 PPMI 계산\n",
        "\n",
        "print('SVD 계산...')\n",
        "try:\n",
        "  from sklearn.utils.extmath import randomized_svd\n",
        "  U,S,V = randomized_svd(W, n_components=wordvec_size, n_iter=5, random_state=None) # 무작위 수를 사용한 Truncated SVD 계산\n",
        "except ImportError: # import Error가 발생하면 SVD 계산\n",
        "  U,S,V = np.linalg.svd(W)\n",
        "\n",
        "word_vecs = U[:, :wordvec_size]\n",
        "\n",
        "querys = ['you', 'year', 'car', 'toyota']\n",
        "\n",
        "for query in querys:\n",
        "  most_similar(query, word_to_id, id_to_word, word_vecs, top=5) # 가장 유사한 5개 출력"
      ],
      "metadata": {
        "colab": {
          "base_uri": "https://localhost:8080/"
        },
        "id": "Mss_-3Vl36xG",
        "outputId": "32c8d457-e523-47f4-ff15-795ec9cc7ec2"
      },
      "execution_count": 16,
      "outputs": [
        {
          "output_type": "stream",
          "name": "stdout",
          "text": [
            "fatal: destination path 'deep-learning-from-scratch-2' already exists and is not an empty directory.\n",
            "Downloading ptb.train.txt ... \n",
            "Done\n",
            "동시발생 수 계산...\n",
            "PPMI 계산...\n",
            "1.0% 완료\n",
            "2.0% 완료\n",
            "3.0% 완료\n",
            "4.0% 완료\n",
            "5.0% 완료\n",
            "6.0% 완료\n",
            "7.0% 완료\n",
            "8.0% 완료\n",
            "9.0% 완료\n",
            "10.0% 완료\n",
            "11.0% 완료\n",
            "12.0% 완료\n",
            "13.0% 완료\n",
            "14.0% 완료\n",
            "15.0% 완료\n",
            "16.0% 완료\n",
            "17.0% 완료\n",
            "18.0% 완료\n",
            "19.0% 완료\n",
            "20.0% 완료\n",
            "21.0% 완료\n",
            "22.0% 완료\n",
            "23.0% 완료\n",
            "24.0% 완료\n",
            "25.0% 완료\n",
            "26.0% 완료\n",
            "27.0% 완료\n",
            "28.0% 완료\n",
            "29.0% 완료\n",
            "30.0% 완료\n",
            "31.0% 완료\n",
            "32.0% 완료\n",
            "33.0% 완료\n",
            "34.0% 완료\n",
            "35.0% 완료\n",
            "36.0% 완료\n",
            "37.0% 완료\n",
            "38.0% 완료\n",
            "39.0% 완료\n",
            "40.0% 완료\n",
            "41.0% 완료\n",
            "42.0% 완료\n",
            "43.0% 완료\n",
            "44.0% 완료\n",
            "45.0% 완료\n",
            "46.0% 완료\n",
            "47.0% 완료\n",
            "48.0% 완료\n",
            "49.0% 완료\n",
            "50.0% 완료\n",
            "51.0% 완료\n",
            "52.0% 완료\n",
            "53.0% 완료\n",
            "54.0% 완료\n",
            "55.0% 완료\n",
            "56.0% 완료\n",
            "57.0% 완료\n",
            "58.0% 완료\n",
            "59.0% 완료\n",
            "60.0% 완료\n",
            "61.0% 완료\n",
            "62.0% 완료\n",
            "63.0% 완료\n",
            "64.0% 완료\n",
            "65.0% 완료\n",
            "66.0% 완료\n",
            "67.0% 완료\n",
            "68.0% 완료\n",
            "69.0% 완료\n",
            "70.0% 완료\n",
            "71.0% 완료\n",
            "72.0% 완료\n",
            "73.0% 완료\n",
            "74.0% 완료\n",
            "75.0% 완료\n",
            "76.0% 완료\n",
            "77.0% 완료\n",
            "78.0% 완료\n",
            "79.0% 완료\n",
            "80.0% 완료\n",
            "81.0% 완료\n",
            "82.0% 완료\n",
            "83.0% 완료\n",
            "84.0% 완료\n",
            "85.0% 완료\n",
            "86.0% 완료\n",
            "87.0% 완료\n",
            "88.0% 완료\n",
            "89.0% 완료\n",
            "90.0% 완료\n",
            "91.0% 완료\n",
            "92.0% 완료\n",
            "93.0% 완료\n",
            "94.0% 완료\n",
            "95.0% 완료\n",
            "96.0% 완료\n",
            "97.0% 완료\n",
            "98.0% 완료\n",
            "99.0% 완료\n",
            "100.0% 완료\n",
            "SVD 계산...\n",
            "\n",
            "[query]you\n",
            " i\" 0.6867654919624329\n",
            " do\" 0.5723283290863037\n",
            " we\" 0.5678016543388367\n",
            " 'd\" 0.541483998298645\n",
            " somebody\" 0.530837893486023\n",
            "\n",
            "[query]year\n",
            " month\" 0.6338843107223511\n",
            " last\" 0.6049542427062988\n",
            " earlier\" 0.5953395366668701\n",
            " quarter\" 0.5897854566574097\n",
            " next\" 0.5769711136817932\n",
            "\n",
            "[query]car\n",
            " luxury\" 0.607254683971405\n",
            " auto\" 0.5818161964416504\n",
            " corsica\" 0.531152606010437\n",
            " cars\" 0.5159100890159607\n",
            " vehicle\" 0.5056468844413757\n",
            "\n",
            "[query]toyota\n",
            " motor\" 0.7585843205451965\n",
            " motors\" 0.6882922649383545\n",
            " mazda\" 0.6254894733428955\n",
            " nissan\" 0.6183689832687378\n",
            " lexus\" 0.6004800200462341\n"
          ]
        }
      ]
    },
    {
      "cell_type": "code",
      "source": [
        ""
      ],
      "metadata": {
        "id": "m8dcEqgYABi2"
      },
      "execution_count": null,
      "outputs": []
    }
  ]
}