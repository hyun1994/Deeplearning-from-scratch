{
  "nbformat": 4,
  "nbformat_minor": 0,
  "metadata": {
    "colab": {
      "name": "DeepLearning_from_scratch_chapter6.ipynb",
      "provenance": [],
      "collapsed_sections": []
    },
    "kernelspec": {
      "name": "python3",
      "display_name": "Python 3"
    },
    "language_info": {
      "name": "python"
    }
  },
  "cells": [
    {
      "cell_type": "code",
      "execution_count": 1,
      "metadata": {
        "id": "aSVfkQ0Sddpg"
      },
      "outputs": [],
      "source": [
        "# SGD 구현\n",
        "class SGD:\n",
        "  def __init__(self, lr=0.1):\n",
        "    self.lr = lr # learning rate 설정\n",
        "\n",
        "  def update(self, params, grads):\n",
        "    for key in params.keys():\n",
        "      params[key] -= self.lr * grads[key] # lr와 기울기를 곱해서 가중치를 빼면서 업데이트"
      ]
    },
    {
      "cell_type": "code",
      "source": [
        "# Momentum 구현\n",
        "class Momentum:\n",
        "  def __init__(self, lr=0.01, momentum=0.9):\n",
        "    self.lr = lr\n",
        "    self.momentum = momentum\n",
        "    self.v = None # 물체의 속도를 의미하며 초기화때는 아무 값도 설정하지 않음\n",
        "\n",
        "  def update(self, params, grads):\n",
        "    if self.v is None:\n",
        "      self.v = {}\n",
        "      for key, val in params.items():\n",
        "        self.v[key] = np.zeros_like(val)\n",
        "\n",
        "    for key in params.keys():\n",
        "      self.v[key] = self.momentum * self.v[key] - self.lr * grads[key] # 기울기 방향으로 힘을 받아 물체가 가속된다는 물리 법칙을 의미\n",
        "      params[key] += self.v[key]"
      ],
      "metadata": {
        "id": "dOSsPl3ZfR0d"
      },
      "execution_count": 2,
      "outputs": []
    },
    {
      "cell_type": "code",
      "source": [
        "# AdaGrad 구현\n",
        "class AdaGrad:\n",
        "  def __init__(self, lr=0.01):\n",
        "    self.lr = lr\n",
        "    self.h = None\n",
        "\n",
        "  def update(self, params, grads):\n",
        "    if self.h is None:\n",
        "      self.h = {}\n",
        "      for key, val in params.keys():\n",
        "        self.h[key] = np.zeros_like(val)\n",
        "\n",
        "    for key in params.keys():\n",
        "      self.h[key] += grads[key] * grads[key] # 기존 기울기 값을 제곱하여 계속 덧셈\n",
        "      params[key] -= self.lr * grads[key] / (np.sqrt(self.h[key]) + 1e-7) # 학습률 감소가 매개 변수의 원소마다 다르게 적용된다는 의미"
      ],
      "metadata": {
        "id": "5dPIqfONiGXY"
      },
      "execution_count": 3,
      "outputs": []
    },
    {
      "cell_type": "code",
      "source": [
        "# RMSprop 구현\n",
        "class RMSprop:\n",
        "    def __init__(self, lr=0.01, decay_rate = 0.99):\n",
        "        self.lr = lr\n",
        "        self.decay_rate = decay_rate\n",
        "        self.h = None\n",
        "        \n",
        "    def update(self, params, grads):\n",
        "        if self.h is None:\n",
        "            self.h = {}\n",
        "            for key, val in params.items():\n",
        "                self.h[key] = np.zeros_like(val)\n",
        "            \n",
        "        for key in params.keys():\n",
        "            self.h[key] *= self.decay_rate\n",
        "            self.h[key] += (1 - self.decay_rate) * grads[key] * grads[key] # 기울기를 단순 누적하지 않고 지수 가중 이동 평균 사용하여 최신 기울기 더 크게 반영\n",
        "            params[key] -= self.lr * grads[key] / (np.sqrt(self.h[key]) + 1e-7)"
      ],
      "metadata": {
        "id": "OZxAXk3YFB3k"
      },
      "execution_count": 4,
      "outputs": []
    },
    {
      "cell_type": "code",
      "source": [
        "# Adam 구현\n",
        "class Adam:\n",
        "    def __init__(self, lr=0.001, beta1=0.9, beta2=0.999):\n",
        "        self.lr = lr\n",
        "        self.beta1 = beta1 \n",
        "        self.beta2 = beta2\n",
        "        self.iter = 0\n",
        "        self.m = None # 1차 모멘텀\n",
        "        self.v = None # AdaGrad, RMSProp적용된 2차 모멘텀\n",
        "        \n",
        "    def update(self, params, grads):\n",
        "        if self.m is None:\n",
        "            self.m, self.v = {}, {}\n",
        "            for key, val in params.items():\n",
        "                self.m[key] = np.zeros_like(val)\n",
        "                self.v[key] = np.zeros_like(val)\n",
        "        \n",
        "        self.iter += 1\n",
        "        lr_t  = self.lr * np.sqrt(1.0 - self.beta2**self.iter) / (1.0 - self.beta1**self.iter)         \n",
        "        \n",
        "        for key in params.keys():\n",
        "            self.m[key] += (1 - self.beta1) * (grads[key] - self.m[key]) # 편향보정된 첫 번째 모멘텀 계산식\n",
        "            self.v[key] += (1 - self.beta2) * (grads[key]**2 - self.v[key]) # 편향 보정된 두 번째 모멘텀 계산식\n",
        "            \n",
        "            params[key] -= lr_t * self.m[key] / (np.sqrt(self.v[key]) + 1e-7) # 업데이트 파라미터\n",
        "            "
      ],
      "metadata": {
        "id": "HYv447aBFBv-"
      },
      "execution_count": 5,
      "outputs": []
    },
    {
      "cell_type": "code",
      "source": [
        "import numpy as np\n",
        "import matplotlib.pyplot as plt\n",
        "\n",
        "def sigmoid(x):\n",
        "  return 1 / (1 + np.exp(-x))\n",
        "\n",
        "x = np.random.randn(1000, 100)\n",
        "node_num = 100 # 은닉층 뉴런 수\n",
        "hidden_layer_size = 5 # 은닉층 갯수\n",
        "activations = {} # 활성화 결과 저장\n",
        "\n",
        "for i in range(hidden_layer_size):\n",
        "  if i != 0:\n",
        "    x = activations[i-1]\n",
        "\n",
        "  w = np.random.randn(node_num, node_num) * 1 # 0과 1에 분포 되어 있으며 기울기 값이 점점 작아지다가 사라지는 기울기 소실 문제 발생\n",
        "  #w = np.random.randn(node_num, node_num) * 0.01 # 0.5 부근에 분포 되어 있기 때문에 기울기 소실 문제 발생하지 않음\n",
        "  #w = np.random.randn(node_num, node_num) / np.sqrt(1.0/node_num) # Xavier 초깃값을 사용하면 앞 층에 노드가 많을수록 대상 노드의 초깃값으로 설정하는 가중치가 좁게 퍼짐\n",
        "  #w = np.random.randn(node_num, node_num) / np.sqrt(2.0/node_num) # ReLU는 음의 영역이 0이라서 더 넓게 분포시키기 위해 2배의 계수가 필요\n",
        "  a = np.dot(x, w)\n",
        "  z = sigmoid(a) # sigmoid, tanh함수는 좌우 대칭이라 중앙부근이 선형인 함수\n",
        "  activations[i] = z\n",
        "\n",
        "\n",
        "for i, a in activations.items():\n",
        "  plt.subplot(1, len(activations), i+1)\n",
        "  plt.title(str(i+1)+ \"-layer\")\n",
        "  plt.hist(a.flatten(), 30, range=(0,1))\n",
        "\n",
        "plt.show()"
      ],
      "metadata": {
        "colab": {
          "base_uri": "https://localhost:8080/",
          "height": 281
        },
        "id": "gxOYmyv8nB1c",
        "outputId": "d980ab13-b94d-496d-8404-8d14c16cac2a"
      },
      "execution_count": 6,
      "outputs": [
        {
          "output_type": "display_data",
          "data": {
            "image/png": "[encoded data removed]",
            "text/plain": [
              "<Figure size 432x288 with 5 Axes>"
            ]
          },
          "metadata": {
            "needs_background": "light"
          }
        }
      ]
    },
    {
      "cell_type": "code",
      "source": [
        "!git clone https://github.com/WegraLee/deep-learning-from-scratch.git\n",
        "import sys, os\n",
        "sys.path.append('/content/deep-learning-from-scratch')\n",
        "from dataset.mnist import load_mnist\n",
        "from common.multi_layer_net import MultiLayerNet\n",
        "\n",
        "(x_train, t_train), (x_test, t_test) = load_mnist(normalize=True)\n",
        "\n",
        "x_train = x_train[:300] # 오버피팅 재현\n",
        "t_train = t_train[:300]\n",
        "\n",
        "weight_decay_lambda = 0.1 # 가중치 감소 설정\n",
        "\n",
        "network = MultiLayerNet(input_size=784, hidden_size_list=[100, 100, 100, 100, 100, 100],\n",
        "                        output_size=10, weight_decay_lambda=weight_decay_lambda)\n",
        "optimizer = SGD(lr=0.01)\n",
        "\n",
        "max_epochs = 201\n",
        "train_size = x_train.shape[0]\n",
        "batch_size = 100\n",
        "\n",
        "train_loss_list = []\n",
        "train_acc_list = []\n",
        "test_acc_list = []\n",
        "\n",
        "iter_per_epoch = max(train_size / batch_size, 1)\n",
        "epoch_cnt = 0\n",
        "\n",
        "for i in range(1000000000):\n",
        "    batch_mask = np.random.choice(train_size, batch_size)\n",
        "    x_batch = x_train[batch_mask]\n",
        "    t_batch = t_train[batch_mask]\n",
        "\n",
        "    grads = network.gradient(x_batch, t_batch)\n",
        "    optimizer.update(network.params, grads)\n",
        "\n",
        "    if i % iter_per_epoch == 0:\n",
        "        train_acc = network.accuracy(x_train, t_train)\n",
        "        test_acc = network.accuracy(x_test, t_test)\n",
        "        train_acc_list.append(train_acc)\n",
        "        test_acc_list.append(test_acc)\n",
        "\n",
        "        epoch_cnt += 1\n",
        "        if epoch_cnt >= max_epochs:\n",
        "            break"
      ],
      "metadata": {
        "id": "25gm8MH5oGc8",
        "colab": {
          "base_uri": "https://localhost:8080/"
        },
        "outputId": "fe4685b2-0b7d-44d3-a8be-b12853c70eee"
      },
      "execution_count": 9,
      "outputs": [
        {
          "output_type": "stream",
          "name": "stdout",
          "text": [
            "fatal: destination path 'deep-learning-from-scratch' already exists and is not an empty directory.\n"
          ]
        }
      ]
    },
    {
      "cell_type": "code",
      "source": [
        "# Dropout 구현\n",
        "class Dropout:\n",
        "  def __init__(self, dropout_ratio=0.5):\n",
        "    self.dropout_ratio = dropout_ratio\n",
        "    self.mask = None\n",
        "\n",
        "  def forward(self, x, train_flg=True):\n",
        "    if train_flg:\n",
        "      self.mask = np.random.rand(*x.shape) > self.dropout_ratio # mask은 x와 형상이 같은 배열을 무작위로 생성하고 dropout_ratio보다 큰 원소만 True설정\n",
        "      return x * self.mask\n",
        "    \n",
        "    else:\n",
        "      return x * (1.0 - self.dropout_ratio)\n",
        "\n",
        "  def backward(self, dout):\n",
        "    return dout * self.mask # 역전파는 ReLU처럼 동작"
      ],
      "metadata": {
        "id": "KIR64z-f28nG"
      },
      "execution_count": 8,
      "outputs": []
    },
    {
      "cell_type": "code",
      "source": [
        "# Validation 분리 구현\n",
        "from dataset.mnist import load_mnist\n",
        "from common.multi_layer_net import MultiLayerNet\n",
        "from common.util import shuffle_dataset\n",
        "(x_train, t_train), (x_test, t_test) = load_mnist()\n",
        "\n",
        "x_train, t_train = shuffle_dataset(x_train, t_train) # 데이터 셔플\n",
        "\n",
        "val_rate = 0.2 # validation 비율\n",
        "val_num = int(x_train.shape[0]*val_rate)\n",
        "\n",
        "x_val = x_train[:val_num]\n",
        "t_val = t_train[:val_num]\n",
        "x_train = x_train[val_num:]\n",
        "t_train = t_train[val_num:]\n",
        "\n",
        "print(x_val.shape)\n",
        "print(t_val.shape)\n",
        "print(x_train.shape)\n",
        "print(t_train.shape)"
      ],
      "metadata": {
        "colab": {
          "base_uri": "https://localhost:8080/"
        },
        "id": "3a55l3We-4vM",
        "outputId": "75d92529-1a60-4f67-87af-1d25ebe38e27"
      },
      "execution_count": 10,
      "outputs": [
        {
          "output_type": "stream",
          "name": "stdout",
          "text": [
            "(12000, 784)\n",
            "(12000,)\n",
            "(48000, 784)\n",
            "(48000,)\n"
          ]
        }
      ]
    },
    {
      "cell_type": "code",
      "source": [
        ""
      ],
      "metadata": {
        "id": "DF6DJx0NB8Ga"
      },
      "execution_count": null,
      "outputs": []
    }
  ]
}